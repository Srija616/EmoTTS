{
  "nbformat": 4,
  "nbformat_minor": 0,
  "metadata": {
    "colab": {
      "provenance": [],
      "authorship_tag": "ABX9TyNB6e0rwz3cB5i6AYwKgSOl",
      "include_colab_link": true
    },
    "kernelspec": {
      "name": "python3",
      "display_name": "Python 3"
    },
    "language_info": {
      "name": "python"
    }
  },
  "cells": [
    {
      "cell_type": "markdown",
      "metadata": {
        "id": "view-in-github",
        "colab_type": "text"
      },
      "source": [
        "<a href=\"https://colab.research.google.com/github/Srija616/EmoTTS/blob/main/EmoTTS.ipynb\" target=\"_parent\"><img src=\"https://colab.research.google.com/assets/colab-badge.svg\" alt=\"Open In Colab\"/></a>"
      ]
    },
    {
      "cell_type": "code",
      "execution_count": 1,
      "metadata": {
        "colab": {
          "base_uri": "https://localhost:8080/"
        },
        "id": "EdPA32TUHNUu",
        "outputId": "e6752bc2-7075-4ef7-ecd7-3542035cb47e"
      },
      "outputs": [
        {
          "output_type": "stream",
          "name": "stdout",
          "text": [
            "  Attempting uninstall: protobuf\n",
            "    Found existing installation: protobuf 3.20.3\n",
            "    Uninstalling protobuf-3.20.3:\n",
            "      Successfully uninstalled protobuf-3.20.3\n",
            "  Attempting uninstall: networkx\n",
            "    Found existing installation: networkx 3.1\n",
            "    Uninstalling networkx-3.1:\n",
            "      Successfully uninstalled networkx-3.1\n",
            "  Attempting uninstall: inflect\n",
            "    Found existing installation: inflect 6.0.4\n",
            "    Uninstalling inflect-6.0.4:\n",
            "      Successfully uninstalled inflect-6.0.4\n",
            "  Attempting uninstall: cython\n",
            "    Found existing installation: Cython 0.29.34\n",
            "    Uninstalling Cython-0.29.34:\n",
            "      Successfully uninstalled Cython-0.29.34\n",
            "\u001b[31mERROR: pip's dependency resolver does not currently take into account all the packages that are installed. This behaviour is the source of the following dependency conflicts.\n",
            "tensorflow 2.12.0 requires protobuf!=4.21.0,!=4.21.1,!=4.21.2,!=4.21.3,!=4.21.4,!=4.21.5,<5.0.0dev,>=3.20.3, but you have protobuf 3.19.6 which is incompatible.\n",
            "tensorflow-metadata 1.13.1 requires protobuf<5,>=3.20.3, but you have protobuf 3.19.6 which is incompatible.\u001b[0m\u001b[31m\n",
            "\u001b[0mSuccessfully installed TTS-0.13.3 aiohttp-3.8.4 aiosignal-1.3.1 anyascii-0.3.2 async-timeout-4.0.2 bangla-0.0.2 bnnumerizer-0.0.2 bnunicodenormalizer-0.1.1 coqpit-0.0.17 cython-0.29.28 dateparser-1.1.8 docopt-0.6.2 frozenlist-1.3.3 g2pkk-0.1.2 gruut-2.2.3 gruut-ipa-0.13.0 gruut_lang_de-2.0.0 gruut_lang_en-2.0.0 inflect-5.6.0 jamo-0.4.1 jsonlines-1.2.0 mecab-python3-1.0.5 multidict-6.0.4 networkx-2.8.8 num2words-0.5.12 protobuf-3.19.6 pynndescent-0.5.10 pypinyin-0.48.0 pysbd-0.3.4 python-crfsuite-0.9.9 tensorboardX-2.6 trainer-0.0.20 umap-learn-0.5.1 unidic-lite-1.0.8 yarl-1.9.2\n"
          ]
        }
      ],
      "source": [
        "pip install TTS"
      ]
    },
    {
      "cell_type": "code",
      "source": [
        "!tts --list_models"
      ],
      "metadata": {
        "id": "f5UM7XH5IKuA"
      },
      "execution_count": null,
      "outputs": []
    },
    {
      "cell_type": "code",
      "source": [],
      "metadata": {
        "id": "_-xf_mzII6cy"
      },
      "execution_count": null,
      "outputs": []
    },
    {
      "cell_type": "code",
      "source": [],
      "metadata": {
        "id": "Yu1r91pVSltx"
      },
      "execution_count": null,
      "outputs": []
    }
  ]
}